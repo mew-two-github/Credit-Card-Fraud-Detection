{
 "cells": [
  {
   "cell_type": "markdown",
   "metadata": {},
   "source": [
    "CREDIT CARD FRAUD DETECTION BY VISHAL"
   ]
  },
  {
   "cell_type": "code",
   "execution_count": 10,
   "metadata": {},
   "outputs": [],
   "source": [
    "import pandas as pd\n",
    "import numpy as np\n",
    "import matplotlib.pyplot as plt\n",
    "import seaborn as sns\n",
    "from sklearn.metrics import classification_report\n",
    "from sklearn.ensemble import RandomForestClassifier\n",
    "from sklearn.datasets import make_classification"
   ]
  },
  {
   "cell_type": "code",
   "execution_count": 11,
   "metadata": {},
   "outputs": [
    {
     "data": {
      "text/html": [
       "<div>\n",
       "<style scoped>\n",
       "    .dataframe tbody tr th:only-of-type {\n",
       "        vertical-align: middle;\n",
       "    }\n",
       "\n",
       "    .dataframe tbody tr th {\n",
       "        vertical-align: top;\n",
       "    }\n",
       "\n",
       "    .dataframe thead th {\n",
       "        text-align: right;\n",
       "    }\n",
       "</style>\n",
       "<table border=\"1\" class=\"dataframe\">\n",
       "  <thead>\n",
       "    <tr style=\"text-align: right;\">\n",
       "      <th></th>\n",
       "      <th>Time</th>\n",
       "      <th>V1</th>\n",
       "      <th>V2</th>\n",
       "      <th>V3</th>\n",
       "      <th>V4</th>\n",
       "      <th>V5</th>\n",
       "      <th>V6</th>\n",
       "      <th>V7</th>\n",
       "      <th>V8</th>\n",
       "      <th>V9</th>\n",
       "      <th>...</th>\n",
       "      <th>V21</th>\n",
       "      <th>V22</th>\n",
       "      <th>V23</th>\n",
       "      <th>V24</th>\n",
       "      <th>V25</th>\n",
       "      <th>V26</th>\n",
       "      <th>V27</th>\n",
       "      <th>V28</th>\n",
       "      <th>Amount</th>\n",
       "      <th>Class</th>\n",
       "    </tr>\n",
       "  </thead>\n",
       "  <tbody>\n",
       "    <tr>\n",
       "      <th>0</th>\n",
       "      <td>0.0</td>\n",
       "      <td>-1.359807</td>\n",
       "      <td>-0.072781</td>\n",
       "      <td>2.536347</td>\n",
       "      <td>1.378155</td>\n",
       "      <td>-0.338321</td>\n",
       "      <td>0.462388</td>\n",
       "      <td>0.239599</td>\n",
       "      <td>0.098698</td>\n",
       "      <td>0.363787</td>\n",
       "      <td>...</td>\n",
       "      <td>-0.018307</td>\n",
       "      <td>0.277838</td>\n",
       "      <td>-0.110474</td>\n",
       "      <td>0.066928</td>\n",
       "      <td>0.128539</td>\n",
       "      <td>-0.189115</td>\n",
       "      <td>0.133558</td>\n",
       "      <td>-0.021053</td>\n",
       "      <td>149.62</td>\n",
       "      <td>0</td>\n",
       "    </tr>\n",
       "    <tr>\n",
       "      <th>1</th>\n",
       "      <td>0.0</td>\n",
       "      <td>1.191857</td>\n",
       "      <td>0.266151</td>\n",
       "      <td>0.166480</td>\n",
       "      <td>0.448154</td>\n",
       "      <td>0.060018</td>\n",
       "      <td>-0.082361</td>\n",
       "      <td>-0.078803</td>\n",
       "      <td>0.085102</td>\n",
       "      <td>-0.255425</td>\n",
       "      <td>...</td>\n",
       "      <td>-0.225775</td>\n",
       "      <td>-0.638672</td>\n",
       "      <td>0.101288</td>\n",
       "      <td>-0.339846</td>\n",
       "      <td>0.167170</td>\n",
       "      <td>0.125895</td>\n",
       "      <td>-0.008983</td>\n",
       "      <td>0.014724</td>\n",
       "      <td>2.69</td>\n",
       "      <td>0</td>\n",
       "    </tr>\n",
       "    <tr>\n",
       "      <th>2</th>\n",
       "      <td>1.0</td>\n",
       "      <td>-1.358354</td>\n",
       "      <td>-1.340163</td>\n",
       "      <td>1.773209</td>\n",
       "      <td>0.379780</td>\n",
       "      <td>-0.503198</td>\n",
       "      <td>1.800499</td>\n",
       "      <td>0.791461</td>\n",
       "      <td>0.247676</td>\n",
       "      <td>-1.514654</td>\n",
       "      <td>...</td>\n",
       "      <td>0.247998</td>\n",
       "      <td>0.771679</td>\n",
       "      <td>0.909412</td>\n",
       "      <td>-0.689281</td>\n",
       "      <td>-0.327642</td>\n",
       "      <td>-0.139097</td>\n",
       "      <td>-0.055353</td>\n",
       "      <td>-0.059752</td>\n",
       "      <td>378.66</td>\n",
       "      <td>0</td>\n",
       "    </tr>\n",
       "    <tr>\n",
       "      <th>3</th>\n",
       "      <td>1.0</td>\n",
       "      <td>-0.966272</td>\n",
       "      <td>-0.185226</td>\n",
       "      <td>1.792993</td>\n",
       "      <td>-0.863291</td>\n",
       "      <td>-0.010309</td>\n",
       "      <td>1.247203</td>\n",
       "      <td>0.237609</td>\n",
       "      <td>0.377436</td>\n",
       "      <td>-1.387024</td>\n",
       "      <td>...</td>\n",
       "      <td>-0.108300</td>\n",
       "      <td>0.005274</td>\n",
       "      <td>-0.190321</td>\n",
       "      <td>-1.175575</td>\n",
       "      <td>0.647376</td>\n",
       "      <td>-0.221929</td>\n",
       "      <td>0.062723</td>\n",
       "      <td>0.061458</td>\n",
       "      <td>123.50</td>\n",
       "      <td>0</td>\n",
       "    </tr>\n",
       "    <tr>\n",
       "      <th>4</th>\n",
       "      <td>2.0</td>\n",
       "      <td>-1.158233</td>\n",
       "      <td>0.877737</td>\n",
       "      <td>1.548718</td>\n",
       "      <td>0.403034</td>\n",
       "      <td>-0.407193</td>\n",
       "      <td>0.095921</td>\n",
       "      <td>0.592941</td>\n",
       "      <td>-0.270533</td>\n",
       "      <td>0.817739</td>\n",
       "      <td>...</td>\n",
       "      <td>-0.009431</td>\n",
       "      <td>0.798278</td>\n",
       "      <td>-0.137458</td>\n",
       "      <td>0.141267</td>\n",
       "      <td>-0.206010</td>\n",
       "      <td>0.502292</td>\n",
       "      <td>0.219422</td>\n",
       "      <td>0.215153</td>\n",
       "      <td>69.99</td>\n",
       "      <td>0</td>\n",
       "    </tr>\n",
       "  </tbody>\n",
       "</table>\n",
       "<p>5 rows × 31 columns</p>\n",
       "</div>"
      ],
      "text/plain": [
       "   Time        V1        V2        V3        V4        V5        V6        V7  \\\n",
       "0   0.0 -1.359807 -0.072781  2.536347  1.378155 -0.338321  0.462388  0.239599   \n",
       "1   0.0  1.191857  0.266151  0.166480  0.448154  0.060018 -0.082361 -0.078803   \n",
       "2   1.0 -1.358354 -1.340163  1.773209  0.379780 -0.503198  1.800499  0.791461   \n",
       "3   1.0 -0.966272 -0.185226  1.792993 -0.863291 -0.010309  1.247203  0.237609   \n",
       "4   2.0 -1.158233  0.877737  1.548718  0.403034 -0.407193  0.095921  0.592941   \n",
       "\n",
       "         V8        V9  ...       V21       V22       V23       V24       V25  \\\n",
       "0  0.098698  0.363787  ... -0.018307  0.277838 -0.110474  0.066928  0.128539   \n",
       "1  0.085102 -0.255425  ... -0.225775 -0.638672  0.101288 -0.339846  0.167170   \n",
       "2  0.247676 -1.514654  ...  0.247998  0.771679  0.909412 -0.689281 -0.327642   \n",
       "3  0.377436 -1.387024  ... -0.108300  0.005274 -0.190321 -1.175575  0.647376   \n",
       "4 -0.270533  0.817739  ... -0.009431  0.798278 -0.137458  0.141267 -0.206010   \n",
       "\n",
       "        V26       V27       V28  Amount  Class  \n",
       "0 -0.189115  0.133558 -0.021053  149.62      0  \n",
       "1  0.125895 -0.008983  0.014724    2.69      0  \n",
       "2 -0.139097 -0.055353 -0.059752  378.66      0  \n",
       "3 -0.221929  0.062723  0.061458  123.50      0  \n",
       "4  0.502292  0.219422  0.215153   69.99      0  \n",
       "\n",
       "[5 rows x 31 columns]"
      ]
     },
     "execution_count": 11,
     "metadata": {},
     "output_type": "execute_result"
    }
   ],
   "source": [
    "#printing first few rows of the data\n",
    "df=pd.read_csv('.\\creditcard.csv')\n",
    "df.head()"
   ]
  },
  {
   "cell_type": "code",
   "execution_count": 12,
   "metadata": {},
   "outputs": [
    {
     "data": {
      "image/png": "[encoded data removed]",
      "text/plain": [
       "<Figure size 432x288 with 1 Axes>"
      ]
     },
     "metadata": {
      "needs_background": "light"
     },
     "output_type": "display_data"
    }
   ],
   "source": [
    "plt.hist(df['Amount'],bins=[0,1000,df['Amount'].max()])\n",
    "plt.ylabel('Frequency')\n",
    "plt.show()\n",
    "#Majority of amounts<1000"
   ]
  },
  {
   "cell_type": "code",
   "execution_count": 5,
   "metadata": {},
   "outputs": [
    {
     "data": {
      "image/png": "[encoded data removed]",
      "text/plain": [
       "<Figure size 432x288 with 1 Axes>"
      ]
     },
     "metadata": {
      "needs_background": "light"
     },
     "output_type": "display_data"
    }
   ],
   "source": [
    "plt.hist(df['Time'])\n",
    "plt.ylabel('Frequency')\n",
    "plt.show()"
   ]
  },
  {
   "cell_type": "markdown",
   "metadata": {},
   "source": [
    "The above graph shows that the number of transaction is low between certain points of time.\n",
    "It could be that the transactions happening in that time are fraudulent."
   ]
  },
  {
   "cell_type": "code",
   "execution_count": 6,
   "metadata": {},
   "outputs": [
    {
     "data": {
      "text/plain": [
       "<matplotlib.axes._subplots.AxesSubplot at 0x2c8380040f0>"
      ]
     },
     "execution_count": 6,
     "metadata": {},
     "output_type": "execute_result"
    },
    {
     "data": {
      "image/png": "[encoded data removed]",
      "text/plain": [
       "<Figure size 432x288 with 2 Axes>"
      ]
     },
     "metadata": {
      "needs_background": "light"
     },
     "output_type": "display_data"
    }
   ],
   "source": [
    "#plotting the heat map to visualise the correlations\n",
    "sns.heatmap(df.corr())"
   ]
  },
  {
   "cell_type": "code",
   "execution_count": 7,
   "metadata": {
    "scrolled": true
   },
   "outputs": [
    {
     "name": "stdout",
     "output_type": "stream",
     "text": [
      "{0: 284315, 1: 492}\n"
     ]
    }
   ],
   "source": [
    "counts = df['Class'].value_counts().to_dict()\n",
    "print(counts)\n",
    "#We realize that the dataset is highly skewed"
   ]
  },
  {
   "cell_type": "code",
   "execution_count": 13,
   "metadata": {},
   "outputs": [],
   "source": [
    "#Normalizing amount\n",
    "m=df['Amount'].mean();\n",
    "s=df['Amount'].std();\n",
    "df['Amount']=((df['Amount']-m)/(s))"
   ]
  },
  {
   "cell_type": "code",
   "execution_count": 14,
   "metadata": {},
   "outputs": [],
   "source": [
    "#Normalizing Time\n",
    "m=df['Time'].mean();\n",
    "s=df['Time'].std();\n",
    "df['Time']=((df['Time']-m)/(s))"
   ]
  },
  {
   "cell_type": "code",
   "execution_count": 10,
   "metadata": {},
   "outputs": [
    {
     "data": {
      "image/png": "[encoded data removed]",
      "text/plain": [
       "<Figure size 432x288 with 1 Axes>"
      ]
     },
     "metadata": {
      "needs_background": "light"
     },
     "output_type": "display_data"
    }
   ],
   "source": [
    "plt.hist(df['Time'])\n",
    "plt.ylabel('Frequency')\n",
    "plt.show()"
   ]
  },
  {
   "cell_type": "code",
   "execution_count": 8,
   "metadata": {},
   "outputs": [
    {
     "name": "stdout",
     "output_type": "stream",
     "text": [
      "(284807, 30)\n"
     ]
    }
   ],
   "source": [
    "X=df.iloc[:,0:30]\n",
    "y=df['Class']\n",
    "print(X.shape)"
   ]
  },
  {
   "cell_type": "code",
   "execution_count": 9,
   "metadata": {},
   "outputs": [],
   "source": [
    "#train-test split\n",
    "from sklearn.model_selection import train_test_split\n",
    "X_train, X_test, y_train, y_test = train_test_split(X, y, test_size=0.2, random_state=101)"
   ]
  },
  {
   "cell_type": "code",
   "execution_count": 64,
   "metadata": {},
   "outputs": [
    {
     "name": "stderr",
     "output_type": "stream",
     "text": [
      "C:\\Users\\HP\\Anaconda3\\lib\\site-packages\\sklearn\\linear_model\\logistic.py:433: FutureWarning: Default solver will be changed to 'lbfgs' in 0.22. Specify a solver to silence this warning.\n",
      "  FutureWarning)\n"
     ]
    },
    {
     "name": "stdout",
     "output_type": "stream",
     "text": [
      "              precision    recall  f1-score   support\n",
      "\n",
      "           0       1.00      1.00      1.00     56859\n",
      "           1       0.91      0.62      0.74       103\n",
      "\n",
      "   micro avg       1.00      1.00      1.00     56962\n",
      "   macro avg       0.96      0.81      0.87     56962\n",
      "weighted avg       1.00      1.00      1.00     56962\n",
      "\n"
     ]
    }
   ],
   "source": [
    "from sklearn.linear_model import LogisticRegression\n",
    "model = LogisticRegression()\n",
    "\n",
    "\n",
    "# Train the model using 'fit' method\n",
    "model.fit(X_train, y_train)\n",
    "\n",
    "# Test the model using 'predict' method\n",
    "y_pred = model.predict(X_test)\n",
    "\n",
    "# Print the classification report \n",
    "from sklearn.metrics import classification_report\n",
    "print(classification_report(y_test, y_pred))\n"
   ]
  },
  {
   "cell_type": "markdown",
   "metadata": {},
   "source": [
    "Let us check whether it actually works with the said recall values by having X_test having labels as all 1\n",
    "\n"
   ]
  },
  {
   "cell_type": "code",
   "execution_count": null,
   "metadata": {},
   "outputs": [],
   "source": [
    "#obtaining the list of row numbers of all rows having Class value 11(fraud)\n",
    "count = 0\n",
    "listo=[]\n",
    "print(type(listof1))\n",
    "x_test=pd.DataFrame()\n",
    "for i in range(284000):\n",
    "    if df.iloc[i]['Class']==1:\n",
    "        listo.append(i)\n",
    "        count=count+1\n",
    "print(x_test)"
   ]
  },
  {
   "cell_type": "code",
   "execution_count": 65,
   "metadata": {},
   "outputs": [
    {
     "name": "stdout",
     "output_type": "stream",
     "text": [
      "           Time         V1         V2         V3        V4         V5  \\\n",
      "541   -1.988030  -2.312227   1.951992  -1.609851  3.997906  -0.522188   \n",
      "623   -1.986640  -3.043541  -3.157307   1.088463  2.288644   1.359805   \n",
      "4920  -1.902619  -2.303350   1.759247  -0.359745  2.330243  -0.821628   \n",
      "6108  -1.849469  -4.397974   1.358367  -2.592844  2.679787  -1.128131   \n",
      "6329  -1.838245   1.234235   3.019740  -4.304597  4.732795   3.624201   \n",
      "6331  -1.838098   0.008430   4.137837  -6.240697  6.675732   0.768307   \n",
      "6334  -1.837908   0.026779   4.132464  -6.560600  6.348557   1.329666   \n",
      "6336  -1.837740   0.329594   3.712889  -5.775935  6.078266   1.667359   \n",
      "6338  -1.837571   0.316459   3.809076  -5.615159  6.047445   1.554026   \n",
      "6427  -1.836329   0.725646   2.300894  -5.329976  4.007683  -1.730411   \n",
      "6446  -1.835023   0.702710   2.426433  -5.234513  4.416661  -2.170806   \n",
      "6472  -1.833591   1.023874   2.001485  -4.769752  3.819195  -1.271754   \n",
      "6529  -1.830412  -1.585505   3.261585  -4.137422  2.357096  -1.405043   \n",
      "6609  -1.826221  -1.783229   3.402794  -3.822742  2.625368  -1.976415   \n",
      "6641  -1.824558   0.857321   4.093912  -7.423894  7.380245   0.973366   \n",
      "6717  -1.819525  -1.813280   4.917851  -5.926130  5.701500   1.204393   \n",
      "6719  -1.819377  -0.251471   4.313523  -6.891438  6.796797   0.616297   \n",
      "6734  -1.818619   0.314597   2.660670  -5.920037  4.522500  -2.315027   \n",
      "6774  -1.816998   0.447396   2.481954  -5.660814  4.455923  -2.443780   \n",
      "6820  -1.815187  -2.169929   3.639654  -4.508498  2.730668  -2.122693   \n",
      "6870  -1.812176  -1.863756   3.442644  -4.468260  2.805336  -2.118412   \n",
      "6882  -1.811102  -4.617217   1.695694  -3.114372  4.328199  -1.873257   \n",
      "6899  -1.809628  -2.661802   5.856393  -7.653616  6.379742  -0.060712   \n",
      "6903  -1.809459  -2.535852   5.793644  -7.618463  6.395830  -0.065210   \n",
      "6971  -1.805711  -3.499108   0.258555  -4.489558  4.853894  -6.974522   \n",
      "8296  -1.763258  -2.125490   5.973556 -11.034727  9.007147  -1.689451   \n",
      "8312  -1.763005   0.378275   3.914797  -5.726872  6.094141   1.698875   \n",
      "8335  -1.762184  -1.426623   4.141986  -9.804103  6.666273  -4.749527   \n",
      "8615  -1.751697  -3.891192   7.098916 -11.426467  8.607557  -2.065706   \n",
      "8617  -1.751571   0.919137   4.199633  -7.535607  7.426940   1.118215   \n",
      "...         ...        ...        ...        ...       ...        ...   \n",
      "15225 -1.436756 -19.856322  12.095893 -22.464083  6.115541 -15.148022   \n",
      "15451 -1.431533 -20.532751  12.373989 -23.009003  6.144821 -15.587296   \n",
      "15476 -1.430902 -21.209120  12.652197 -23.553933  6.174078 -16.026658   \n",
      "15506 -1.430143 -21.885434  12.930505 -24.098872  6.203314 -16.466099   \n",
      "15539 -1.429470 -22.561699  13.208904 -24.643819  6.232532 -16.905611   \n",
      "15566 -1.428838 -23.237920  13.487386 -25.188773  6.261733 -17.345188   \n",
      "15736 -1.424584 -23.914101  13.765942 -25.733734  6.290918 -17.784824   \n",
      "15751 -1.424079 -24.590245  14.044567 -26.278701  6.320089 -18.224513   \n",
      "15781 -1.423405 -25.266355  14.323254 -26.823673  6.349248 -18.664251   \n",
      "15810 -1.422710 -25.942434  14.601998 -27.368650  6.378395 -19.104033   \n",
      "16415 -1.411507   0.288029   0.965681  -1.459495  1.921863  -1.912414   \n",
      "16780 -1.403947 -27.143678  15.365804 -28.407424  6.370895 -20.087878   \n",
      "16863 -1.401863  -2.787248  -0.071340  -1.505288  3.361777  -3.357422   \n",
      "17317 -1.393798 -27.848181  15.598193 -28.923756  6.418442 -20.346228   \n",
      "17366 -1.393103 -28.524268  15.876923 -29.468732  6.447591 -20.786000   \n",
      "17407 -1.392387 -29.200329  16.155701 -30.013712  6.476731 -21.225810   \n",
      "17453 -1.391671 -29.876366  16.434525 -30.558697  6.505862 -21.665654   \n",
      "17480 -1.391060 -30.552380  16.713389 -31.103685  6.534984 -22.105532   \n",
      "18466 -1.374824   1.102804   2.829168  -3.932870  4.707691   2.937967   \n",
      "18472 -1.374719  -1.060676   2.608579  -2.971679  4.360089   3.738853   \n",
      "18773 -1.370044   0.269614   3.549755  -5.810353  5.809370   1.538808   \n",
      "18809 -1.369370   0.923764   0.344048  -2.880004  1.721680  -3.019565   \n",
      "20198 -1.346902  -2.830984   0.885657   1.199930  2.861292   0.321669   \n",
      "23308 -1.308281   0.287953   1.728735  -1.652173  3.813544  -1.090927   \n",
      "23422 -1.307039  -2.179135   0.020218  -2.182733  2.572046  -3.663733   \n",
      "26802 -1.275221   0.539276   1.554890  -2.066180  3.241617   0.184736   \n",
      "27362 -1.269640   1.081234   0.416414   0.862919  2.520863  -0.005021   \n",
      "27627 -1.267261   0.333499   1.699873  -2.596561  3.643945  -0.585068   \n",
      "27738 -1.266208  -2.439237   2.591458  -2.840126  1.286244  -1.777016   \n",
      "27749 -1.266145  -0.860827   3.131790  -5.052968  5.420941  -2.494141   \n",
      "\n",
      "             V6         V7         V8        V9  ...       V20       V21  \\\n",
      "541   -1.426545  -2.537387   1.391657 -2.770089  ...  0.126911  0.517232   \n",
      "623   -1.064823   0.325574  -0.067794 -0.270953  ...  2.102339  0.661696   \n",
      "4920  -0.075788   0.562320  -0.399147 -0.238253  ... -0.430022 -0.294166   \n",
      "6108  -1.706536  -3.496197  -0.248778 -0.247768  ... -0.171608  0.573574   \n",
      "6329  -1.357746   1.713445  -0.496358 -1.282858  ...  0.009061 -0.379068   \n",
      "6331  -3.353060  -1.631735   0.154612 -2.795892  ...  0.488378  0.364514   \n",
      "6334  -2.513479  -1.689102   0.303253 -3.139409  ...  0.587743  0.370509   \n",
      "6336  -2.420168  -0.812891   0.133080 -2.214311  ...  0.269773  0.156617   \n",
      "6338  -2.651353  -0.746579   0.055586 -2.678679  ...  0.388307  0.208828   \n",
      "6427  -1.732193  -3.968593   1.063728 -0.486097  ...  0.504646  0.589669   \n",
      "6446  -2.667554  -3.878088   0.911337 -0.166199  ...  0.422743  0.551180   \n",
      "6472  -1.734662  -3.059245   0.889805  0.415382  ...  0.204138  0.343283   \n",
      "6529  -1.879437  -3.513687   1.515607 -1.207166  ...  0.315957  0.501543   \n",
      "6609  -2.731689  -3.430559   1.413204 -0.776941  ...  0.364089  0.454032   \n",
      "6641  -2.730762  -1.496497   0.543015 -2.351190  ...  0.483303  0.375026   \n",
      "6717  -3.035138  -1.713402   0.561257 -3.796354  ...  0.576656  0.615642   \n",
      "6719  -2.966327  -2.436653   0.489328 -3.371639  ...  0.632710  0.536892   \n",
      "6734  -2.278352  -4.684054   1.202270 -0.694696  ...  0.562706  0.743314   \n",
      "6774  -2.185040  -4.716143   1.249803 -0.718326  ...  0.549613  0.756053   \n",
      "6820  -2.341017  -4.235253   1.703538 -1.305279  ...  0.500779  0.645103   \n",
      "6870  -2.332285  -4.261237   1.701682 -1.439396  ...  0.360924  0.667927   \n",
      "6882  -0.989908  -4.577265   0.472216  0.472017  ... -0.039046  0.481830   \n",
      "6899  -3.131550  -3.103570   1.778492 -3.831154  ...  0.399097  0.734775   \n",
      "6903  -3.136372  -3.104557   1.823233 -3.878658  ...  0.408704  0.716720   \n",
      "6971   3.628382   5.431271  -1.946734 -0.775680  ... -3.042626 -1.052368   \n",
      "8296  -2.854415  -7.810441   2.030870 -5.902828  ...  1.493775  1.646518   \n",
      "8312  -2.807314  -0.591118  -0.123496 -2.530713  ...  0.440439  0.149896   \n",
      "8335  -2.073129 -10.089931   2.791345 -3.249516  ...  1.410678  1.865679   \n",
      "8615  -2.985288  -8.138589   2.973928 -6.272790  ...  1.382619  1.757085   \n",
      "8617  -2.886722  -1.341036   0.363933 -2.203224  ...  0.535435  0.316094   \n",
      "...         ...        ...        ...       ...  ...       ...       ...   \n",
      "15225 -4.346724 -15.648507  13.276805 -3.974162  ...  1.582930  1.750730   \n",
      "15451 -4.384491 -15.939003  13.696416 -3.948455  ...  1.592754  1.754608   \n",
      "15476 -4.422195 -16.229444  14.116002 -3.922741  ...  1.602439  1.758440   \n",
      "15506 -4.459842 -16.519836  14.535565 -3.897022  ...  1.611998  1.762232   \n",
      "15539 -4.497439 -16.810184  14.955107 -3.871297  ...  1.621444  1.765987   \n",
      "15566 -4.534989 -17.100492  15.374630 -3.845567  ...  1.630787  1.769708   \n",
      "15736 -4.572498 -17.390764  15.794136 -3.819832  ...  1.640037  1.773399   \n",
      "15751 -4.609968 -17.681003  16.213627 -3.794093  ...  1.649202  1.777063   \n",
      "15781 -4.647403 -17.971212  16.633103 -3.768351  ...  1.658289  1.780701   \n",
      "15810 -4.684806 -18.261393  17.052566 -3.742605  ...  1.667304  1.784316   \n",
      "16415 -1.130282  -2.814263   0.648663 -0.695263  ...  0.330917  0.603127   \n",
      "16780 -4.666313 -18.709479  17.903574 -3.722279  ...  1.703888  1.796826   \n",
      "16863  0.565835   0.303653   0.966914 -2.245882  ...  1.607397  0.882940   \n",
      "17317 -4.828202 -19.210896  18.329406 -3.668735  ...  1.697856  1.802149   \n",
      "17366 -4.865613 -19.501084  18.748872 -3.642990  ...  1.706889  1.805770   \n",
      "17407 -4.902997 -19.791248  19.168327 -3.617242  ...  1.715862  1.809371   \n",
      "17453 -4.940356 -20.081391  19.587773 -3.591491  ...  1.724779  1.812954   \n",
      "17480 -4.977692 -20.371514  20.007208 -3.565738  ...  1.733644  1.816520   \n",
      "18466 -1.800904   1.672734  -0.300240 -2.783011  ... -0.030880 -0.106994   \n",
      "18472 -2.728395   1.987616  -0.357345 -2.757535  ... -0.089062 -0.063168   \n",
      "18773 -2.269219  -0.824203   0.351070 -3.759059  ...  0.310525  0.371121   \n",
      "18809 -0.639736  -3.801325   1.299096  0.864065  ...  0.170872  0.899931   \n",
      "20198  0.289966   1.767760  -2.451050  0.069736  ... -1.016923  0.546589   \n",
      "23308 -0.984745  -2.202318   0.555088 -2.033892  ...  0.265250  0.262202   \n",
      "23422  0.081568   0.268049   0.660437 -2.374027  ...  1.957960  1.026421   \n",
      "26802  0.028330  -1.515521   0.537035 -1.999846  ...  0.302735  0.371773   \n",
      "27362  0.563341  -0.123372   0.223122 -0.673598  ... -0.165249 -0.159387   \n",
      "27627 -0.654659  -2.275789   0.675229 -2.042416  ...  0.329342  0.469212   \n",
      "27738 -1.436139  -2.206056  -2.282725 -0.292885  ...  0.513530  1.774460   \n",
      "27749 -1.811287  -5.479117   1.189472 -3.908206  ...  1.085760  1.192694   \n",
      "\n",
      "            V22       V23       V24       V25       V26       V27       V28  \\\n",
      "541   -0.035049 -0.465211  0.320198  0.044519  0.177840  0.261145 -0.143276   \n",
      "623    0.435477  1.375966 -0.293803  0.279798 -0.145362 -0.252773  0.035764   \n",
      "4920  -0.932391  0.172726 -0.087330 -0.156114 -0.542628  0.039566 -0.153029   \n",
      "6108   0.176968 -0.436207 -0.053502  0.252405 -0.657488 -0.827136  0.849573   \n",
      "6329  -0.704181 -0.656805 -1.632653  1.488901  0.566797 -0.010016  0.146793   \n",
      "6331  -0.608057 -0.539528  0.128940  1.488481  0.507963  0.735822  0.513574   \n",
      "6334  -0.576752 -0.669605 -0.759908  1.605056  0.540675  0.737040  0.496699   \n",
      "6336  -0.652450 -0.551572 -0.716522  1.415717  0.555265  0.530507  0.404474   \n",
      "6338  -0.511747 -0.583813 -0.219845  1.474753  0.491192  0.518868  0.402528   \n",
      "6427   0.109541  0.601045 -0.364700 -1.843078  0.351909  0.594550  0.099372   \n",
      "6446  -0.009802  0.721698  0.473246 -1.959304  0.319476  0.600485  0.129305   \n",
      "6472  -0.054196  0.709654 -0.372216 -2.032068  0.366778  0.395171  0.020206   \n",
      "6529  -0.546869 -0.076584 -0.425550  0.123644  0.321985  0.264028  0.132817   \n",
      "6609  -0.577526  0.045967  0.461700  0.044146  0.305704  0.530981  0.243746   \n",
      "6641   0.145400  0.240603 -0.234649 -1.004881  0.435832  0.618324  0.148469   \n",
      "6717  -0.406427 -0.737018 -0.279642  1.106766  0.323885  0.894767  0.569519   \n",
      "6719  -0.546126 -0.605240 -0.263743  1.539916  0.523574  0.891025  0.572741   \n",
      "6734   0.064038  0.677842  0.083008 -1.911034  0.322188  0.620867  0.185030   \n",
      "6774   0.140168  0.665411  0.131464 -1.908217  0.334808  0.748534  0.175414   \n",
      "6820  -0.503529 -0.000523  0.071696  0.092007  0.308498  0.552591  0.298954   \n",
      "6870  -0.516242 -0.012218  0.070614  0.058504  0.304883  0.418012  0.208858   \n",
      "6882   0.146023  0.117039 -0.217565 -0.138776 -0.424453 -1.002041  0.890780   \n",
      "6899  -0.435901 -0.384766 -0.286016  1.007934  0.413196  0.280284  0.303937   \n",
      "6903  -0.448060 -0.402407 -0.288835  1.011752  0.425965  0.413140  0.308205   \n",
      "6971   0.204817 -2.119007  0.170279 -0.393844  0.296367  1.985913 -0.900452   \n",
      "8296  -0.278485 -0.664841 -1.164555  1.701796  0.690806  2.119749  1.108933   \n",
      "8312  -0.601967 -0.613724 -0.403114  1.568445  0.521884  0.527938  0.411910   \n",
      "8335   0.407809  0.605809 -0.769348 -1.746337  0.502040  1.977258  0.711607   \n",
      "8615  -0.189709 -0.508629 -1.189308  1.188536  0.605242  1.881529  0.875260   \n",
      "8617   0.055179  0.210692 -0.417918 -0.911188  0.466524  0.627393  0.157851   \n",
      "...         ...       ...       ...       ...       ...       ...       ...   \n",
      "15225 -1.409636 -0.809809  0.121397  1.350300 -0.224292  1.597621  0.476920   \n",
      "15451 -1.466115 -0.856779  0.125777  1.402587 -0.223755  1.574249  0.469201   \n",
      "15476 -1.522588 -0.903860  0.130166  1.454857 -0.223214  1.550928  0.461460   \n",
      "15506 -1.579055 -0.951043  0.134565  1.507110 -0.222671  1.527655  0.453699   \n",
      "15539 -1.635517 -0.998317  0.138972  1.559350 -0.222125  1.504425  0.445920   \n",
      "15566 -1.691973 -1.045673  0.143386  1.611577 -0.221576  1.481233  0.438125   \n",
      "15736 -1.748426 -1.093104  0.147807  1.663792 -0.221024  1.458076  0.430315   \n",
      "15751 -1.804874 -1.140605  0.152234  1.715997 -0.220471  1.434951  0.422492   \n",
      "15781 -1.861318 -1.188167  0.156667  1.768192 -0.219916  1.411855  0.414656   \n",
      "15810 -1.917759 -1.235787  0.161105  1.820378 -0.219359  1.388786  0.406810   \n",
      "16415  0.380690 -0.064125  0.271380  0.337220  0.626156  0.565125  0.305925   \n",
      "16780 -1.960974 -0.902247  0.144011  2.024388 -0.204214  1.332153  0.385891   \n",
      "16863 -0.246202  1.752227  0.219925  0.156282 -0.265894  0.220694  0.256077   \n",
      "17317 -2.062934 -1.269843  0.165409  1.999499 -0.211059  1.324809  0.388090   \n",
      "17366 -2.119376 -1.317450  0.169846  2.051687 -0.210502  1.301734  0.380246   \n",
      "17407 -2.175815 -1.365104  0.174286  2.103868 -0.209944  1.278681  0.372393   \n",
      "17453 -2.232252 -1.412803  0.178731  2.156042 -0.209385  1.255649  0.364530   \n",
      "17480 -2.288686 -1.460544  0.183179  2.208209 -0.208824  1.232636  0.356660   \n",
      "18466 -0.250050 -0.521627 -0.448950  1.291646  0.516327  0.009146  0.153318   \n",
      "18472 -0.207385 -0.183261 -0.103679  0.896178  0.407387 -0.130918  0.192177   \n",
      "18773 -0.322290 -0.549856 -0.520629  1.378210  0.564714  0.553255  0.402400   \n",
      "18809  1.481271  0.725266  0.176960 -1.815638 -0.536517  0.489035 -0.049729   \n",
      "20198  0.334971  0.172106  0.623590 -0.527114 -0.079215 -2.532445  0.311177   \n",
      "23308 -0.633528  0.092891  0.187613  0.368708 -0.132474  0.576561  0.309843   \n",
      "23422  0.299614  1.656800  0.328433  0.106457  0.691775  0.196779  0.241085   \n",
      "26802  0.111955 -0.305225 -1.053835  0.771175  0.240878  0.418435  0.232170   \n",
      "27362 -0.305154  0.053620  0.011761  0.375146 -0.106299  0.021008  0.010559   \n",
      "27627 -0.144363 -0.317981 -0.769644  0.807855  0.228164  0.551002  0.305473   \n",
      "27738 -0.771390  0.065727  0.103916 -0.057578  0.242652 -0.268649 -0.743713   \n",
      "27749  0.090356 -0.341881 -0.215924  1.053032  0.271139  1.373300  0.691195   \n",
      "\n",
      "         Amount  \n",
      "541   -0.353229  \n",
      "623    1.761755  \n",
      "4920   0.606030  \n",
      "6108  -0.117342  \n",
      "6329  -0.349231  \n",
      "6331  -0.349231  \n",
      "6334  -0.349231  \n",
      "6336  -0.349231  \n",
      "6338  -0.349231  \n",
      "6427  -0.349231  \n",
      "6446  -0.349231  \n",
      "6472  -0.349231  \n",
      "6529  -0.349231  \n",
      "6609  -0.349231  \n",
      "6641  -0.349231  \n",
      "6717  -0.349231  \n",
      "6719  -0.349231  \n",
      "6734  -0.349231  \n",
      "6774  -0.349231  \n",
      "6820  -0.349231  \n",
      "6870  -0.349231  \n",
      "6882  -0.348831  \n",
      "6899  -0.349231  \n",
      "6903  -0.349231  \n",
      "6971   6.882015  \n",
      "8296  -0.349231  \n",
      "8312  -0.349231  \n",
      "8335  -0.349231  \n",
      "8615  -0.349231  \n",
      "8617  -0.349231  \n",
      "...         ...  \n",
      "15225  0.046539  \n",
      "15451  0.046539  \n",
      "15476  0.046539  \n",
      "15506  0.046539  \n",
      "15539  0.046539  \n",
      "15566  0.046539  \n",
      "15736  0.046539  \n",
      "15751  0.046539  \n",
      "15781  0.046539  \n",
      "15810  0.046539  \n",
      "16415 -0.259834  \n",
      "16780  0.046539  \n",
      "16863  2.568807  \n",
      "17317  0.046539  \n",
      "17366  0.046539  \n",
      "17407  0.046539  \n",
      "17453  0.046539  \n",
      "17480  0.046539  \n",
      "18466 -0.350510  \n",
      "18472 -0.350510  \n",
      "18773 -0.350510  \n",
      "18809 -0.232087  \n",
      "20198  0.065810  \n",
      "23308 -0.353229  \n",
      "23422  2.513994  \n",
      "26802 -0.277185  \n",
      "27362 -0.347152  \n",
      "27627 -0.277425  \n",
      "27738  0.147731  \n",
      "27749 -0.277185  \n",
      "\n",
      "[93 rows x 30 columns]\n",
      "541      1\n",
      "623      1\n",
      "4920     1\n",
      "6108     1\n",
      "6329     1\n",
      "6331     1\n",
      "6334     1\n",
      "6336     1\n",
      "6338     1\n",
      "6427     1\n",
      "6446     1\n",
      "6472     1\n",
      "6529     1\n",
      "6609     1\n",
      "6641     1\n",
      "6717     1\n",
      "6719     1\n",
      "6734     1\n",
      "6774     1\n",
      "6820     1\n",
      "6870     1\n",
      "6882     1\n",
      "6899     1\n",
      "6903     1\n",
      "6971     1\n",
      "8296     1\n",
      "8312     1\n",
      "8335     1\n",
      "8615     1\n",
      "8617     1\n",
      "        ..\n",
      "15225    1\n",
      "15451    1\n",
      "15476    1\n",
      "15506    1\n",
      "15539    1\n",
      "15566    1\n",
      "15736    1\n",
      "15751    1\n",
      "15781    1\n",
      "15810    1\n",
      "16415    1\n",
      "16780    1\n",
      "16863    1\n",
      "17317    1\n",
      "17366    1\n",
      "17407    1\n",
      "17453    1\n",
      "17480    1\n",
      "18466    1\n",
      "18472    1\n",
      "18773    1\n",
      "18809    1\n",
      "20198    1\n",
      "23308    1\n",
      "23422    1\n",
      "26802    1\n",
      "27362    1\n",
      "27627    1\n",
      "27738    1\n",
      "27749    1\n",
      "Name: Class, Length: 93, dtype: int64\n"
     ]
    }
   ],
   "source": [
    "x_test=df.iloc[listo]\n",
    "x_test=x_test.drop('Class',axis=1)\n",
    "Y_test=df.iloc[listo]['Class']\n",
    "print(x_test)\n",
    "print(Y_test)"
   ]
  },
  {
   "cell_type": "code",
   "execution_count": 66,
   "metadata": {
    "scrolled": true
   },
   "outputs": [
    {
     "name": "stdout",
     "output_type": "stream",
     "text": [
      "              precision    recall  f1-score   support\n",
      "\n",
      "           0       0.00      0.00      0.00         0\n",
      "           1       1.00      0.70      0.82        93\n",
      "\n",
      "   micro avg       0.70      0.70      0.70        93\n",
      "   macro avg       0.50      0.35      0.41        93\n",
      "weighted avg       1.00      0.70      0.82        93\n",
      "\n"
     ]
    },
    {
     "name": "stderr",
     "output_type": "stream",
     "text": [
      "C:\\Users\\HP\\Anaconda3\\lib\\site-packages\\sklearn\\metrics\\classification.py:1145: UndefinedMetricWarning: Recall and F-score are ill-defined and being set to 0.0 in labels with no true samples.\n",
      "  'recall', 'true', average, warn_for)\n",
      "C:\\Users\\HP\\Anaconda3\\lib\\site-packages\\sklearn\\metrics\\classification.py:1145: UndefinedMetricWarning: Recall and F-score are ill-defined and being set to 0.0 in labels with no true samples.\n",
      "  'recall', 'true', average, warn_for)\n",
      "C:\\Users\\HP\\Anaconda3\\lib\\site-packages\\sklearn\\metrics\\classification.py:1145: UndefinedMetricWarning: Recall and F-score are ill-defined and being set to 0.0 in labels with no true samples.\n",
      "  'recall', 'true', average, warn_for)\n"
     ]
    }
   ],
   "source": [
    "y_pred = model.predict(x_test)\n",
    "# Print the classification report \n",
    "from sklearn.metrics import classification_report\n",
    "print(classification_report(Y_test, y_pred))\n"
   ]
  },
  {
   "cell_type": "markdown",
   "metadata": {},
   "source": [
    "We see that the recall values are pretty low because of the skewed training data."
   ]
  },
  {
   "cell_type": "code",
   "execution_count": 76,
   "metadata": {},
   "outputs": [],
   "source": [
    "from sklearn.neighbors import KNeighborsClassifier\n",
    "knnmodel=KNeighborsClassifier(n_neighbors=2)\n",
    "knnmodel.fit(X_train,y_train)\n",
    "y_pred = knnmodel.predict(X_test)\n"
   ]
  },
  {
   "cell_type": "code",
   "execution_count": 79,
   "metadata": {},
   "outputs": [
    {
     "name": "stdout",
     "output_type": "stream",
     "text": [
      "              precision    recall  f1-score   support\n",
      "\n",
      "           0       1.00      1.00      1.00     56859\n",
      "           1       0.96      0.80      0.87       103\n",
      "\n",
      "   micro avg       1.00      1.00      1.00     56962\n",
      "   macro avg       0.98      0.90      0.94     56962\n",
      "weighted avg       1.00      1.00      1.00     56962\n",
      "\n"
     ]
    }
   ],
   "source": [
    "# Print the classification report \n",
    "print(classification_report(y_test, y_pred))"
   ]
  },
  {
   "cell_type": "markdown",
   "metadata": {},
   "source": [
    "So we can see a vastly improved f1 score for this model using the same train and test data compared to Logistic regression. Although we cant visualise 30 dimensions it could be possible that there is some pattern in these fraud cases if we use the root mean square distance parameter to calculate the cost."
   ]
  },
  {
   "cell_type": "code",
   "execution_count": 80,
   "metadata": {},
   "outputs": [
    {
     "name": "stdout",
     "output_type": "stream",
     "text": [
      "              precision    recall  f1-score   support\n",
      "\n",
      "           0       0.00      0.00      0.00         0\n",
      "           1       1.00      0.94      0.97        93\n",
      "\n",
      "   micro avg       0.94      0.94      0.94        93\n",
      "   macro avg       0.50      0.47      0.48        93\n",
      "weighted avg       1.00      0.94      0.97        93\n",
      "\n"
     ]
    },
    {
     "name": "stderr",
     "output_type": "stream",
     "text": [
      "C:\\Users\\HP\\Anaconda3\\lib\\site-packages\\sklearn\\metrics\\classification.py:1145: UndefinedMetricWarning: Recall and F-score are ill-defined and being set to 0.0 in labels with no true samples.\n",
      "  'recall', 'true', average, warn_for)\n",
      "C:\\Users\\HP\\Anaconda3\\lib\\site-packages\\sklearn\\metrics\\classification.py:1145: UndefinedMetricWarning: Recall and F-score are ill-defined and being set to 0.0 in labels with no true samples.\n",
      "  'recall', 'true', average, warn_for)\n",
      "C:\\Users\\HP\\Anaconda3\\lib\\site-packages\\sklearn\\metrics\\classification.py:1145: UndefinedMetricWarning: Recall and F-score are ill-defined and being set to 0.0 in labels with no true samples.\n",
      "  'recall', 'true', average, warn_for)\n"
     ]
    }
   ],
   "source": [
    "y_pred = model.predict(x_test)\n",
    "# Print the classification report \n",
    "\n",
    "print(classification_report(Y_test, y_pred))"
   ]
  },
  {
   "cell_type": "markdown",
   "metadata": {},
   "source": [
    "We have 94% rate of predicting a fraud case when it actually is, using this KNN model. Let us now try to train it dropping the skewed 'Amount' column"
   ]
  },
  {
   "cell_type": "code",
   "execution_count": 82,
   "metadata": {},
   "outputs": [
    {
     "name": "stdout",
     "output_type": "stream",
     "text": [
      "              precision    recall  f1-score   support\n",
      "\n",
      "           0       1.00      1.00      1.00     56859\n",
      "           1       0.96      0.80      0.87       103\n",
      "\n",
      "   micro avg       1.00      1.00      1.00     56962\n",
      "   macro avg       0.98      0.90      0.94     56962\n",
      "weighted avg       1.00      1.00      1.00     56962\n",
      "\n"
     ]
    }
   ],
   "source": [
    "X_train.drop('Amount',axis=1)\n",
    "X_test.drop('Amount',axis=1)\n",
    "knnmodel2=KNeighborsClassifier(n_neighbors=2)\n",
    "knnmodel2.fit(X_train,y_train)\n",
    "y_pred = knnmodel2.predict(X_test)\n",
    "print(classification_report(y_test, y_pred))"
   ]
  },
  {
   "cell_type": "code",
   "execution_count": 18,
   "metadata": {},
   "outputs": [],
   "source": [
    "RFmodel = RandomForestClassifier(n_estimators=10)"
   ]
  },
  {
   "cell_type": "code",
   "execution_count": 19,
   "metadata": {},
   "outputs": [
    {
     "data": {
      "text/plain": [
       "RandomForestClassifier(bootstrap=True, class_weight=None, criterion='gini',\n",
       "            max_depth=None, max_features='auto', max_leaf_nodes=None,\n",
       "            min_impurity_decrease=0.0, min_impurity_split=None,\n",
       "            min_samples_leaf=1, min_samples_split=2,\n",
       "            min_weight_fraction_leaf=0.0, n_estimators=10, n_jobs=None,\n",
       "            oob_score=False, random_state=None, verbose=0,\n",
       "            warm_start=False)"
      ]
     },
     "execution_count": 19,
     "metadata": {},
     "output_type": "execute_result"
    }
   ],
   "source": [
    "RFmodel.fit(X_train, y_train)  "
   ]
  },
  {
   "cell_type": "code",
   "execution_count": 20,
   "metadata": {},
   "outputs": [],
   "source": [
    "y_pred = RFmodel.predict(X_test)"
   ]
  },
  {
   "cell_type": "code",
   "execution_count": 21,
   "metadata": {},
   "outputs": [
    {
     "name": "stdout",
     "output_type": "stream",
     "text": [
      "              precision    recall  f1-score   support\n",
      "\n",
      "           0       1.00      1.00      1.00     56859\n",
      "           1       0.94      0.80      0.86       103\n",
      "\n",
      "   micro avg       1.00      1.00      1.00     56962\n",
      "   macro avg       0.97      0.90      0.93     56962\n",
      "weighted avg       1.00      1.00      1.00     56962\n",
      "\n"
     ]
    }
   ],
   "source": [
    "print(classification_report(y_test, y_pred))"
   ]
  },
  {
   "cell_type": "markdown",
   "metadata": {},
   "source": [
    "CONCLUSION: KNN model has the best F1 score and should be used, below is the code for training and testsing ONLY the knn model:-"
   ]
  },
  {
   "cell_type": "code",
   "execution_count": 2,
   "metadata": {},
   "outputs": [
    {
     "name": "stdout",
     "output_type": "stream",
     "text": [
      "              precision    recall  f1-score   support\n",
      "\n",
      "           0       1.00      1.00      1.00     56859\n",
      "           1       0.96      0.80      0.87       103\n",
      "\n",
      "   micro avg       1.00      1.00      1.00     56962\n",
      "   macro avg       0.98      0.90      0.94     56962\n",
      "weighted avg       1.00      1.00      1.00     56962\n",
      "\n"
     ]
    }
   ],
   "source": [
    "import pandas as pd\n",
    "import numpy as np\n",
    "import matplotlib.pyplot as plt\n",
    "import seaborn as sns\n",
    "from sklearn.metrics import classification_report\n",
    "from sklearn.ensemble import RandomForestClassifier\n",
    "from sklearn.datasets import make_classification\n",
    "from sklearn.neighbors import KNeighborsClassifier\n",
    "from sklearn.model_selection import train_test_split\n",
    "\n",
    "#printing first few rows of the data\n",
    "df=pd.read_csv('.\\creditcard.csv')\n",
    "df.head()\n",
    "\n",
    "#Normalizing amount\n",
    "m=df['Amount'].mean();\n",
    "s=df['Amount'].std();\n",
    "df['Amount']=((df['Amount']-m)/(s))\n",
    "\n",
    "#Normalizing Time\n",
    "m=df['Time'].mean();\n",
    "s=df['Time'].std();\n",
    "df['Time']=((df['Time']-m)/(s))\n",
    "\n",
    "#separating the label and the features in the data and storing them in X and y separately\n",
    "X=df.iloc[:,0:30]\n",
    "y=df['Class']\n",
    "\n",
    "X_train, X_test, y_train, y_test = train_test_split(X, y, test_size=0.2, random_state=101)\n",
    "\n",
    "knnmodel=KNeighborsClassifier(n_neighbors=2)\n",
    "knnmodel.fit(X_train,y_train)\n",
    "\n",
    "y_pred = knnmodel.predict(X_test)\n",
    "\n",
    "# Print the classification report \n",
    "from sklearn.metrics import classification_report\n",
    "print(classification_report(y_test, y_pred))\n"
   ]
  }
 ],
 "metadata": {
  "kernelspec": {
   "display_name": "Python 3",
   "language": "python",
   "name": "python3"
  },
  "language_info": {
   "codemirror_mode": {
    "name": "ipython",
    "version": 3
   },
   "file_extension": ".py",
   "mimetype": "text/x-python",
   "name": "python",
   "nbconvert_exporter": "python",
   "pygments_lexer": "ipython3",
   "version": "3.7.3"
  }
 },
 "nbformat": 4,
 "nbformat_minor": 2
}
